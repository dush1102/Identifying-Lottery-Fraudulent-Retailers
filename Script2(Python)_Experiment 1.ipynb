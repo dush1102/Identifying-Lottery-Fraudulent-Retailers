{
 "cells": [
  {
   "cell_type": "markdown",
   "metadata": {},
   "source": [
    "# Import Libraries"
   ]
  },
  {
   "cell_type": "code",
   "execution_count": 87,
   "metadata": {},
   "outputs": [],
   "source": [
    "import pandas as pd\n",
    "import numpy as np\n",
    "from sklearn import preprocessing\n",
    "from sklearn.model_selection import train_test_split\n",
    "import matplotlib.pyplot as plt\n",
    "import seaborn as sns\n",
    "from sklearn.model_selection import cross_validate\n",
    "from sklearn.metrics import accuracy_score\n",
    "from sklearn.metrics import classification_report\n",
    "from sklearn.metrics import confusion_matrix\n",
    "from sklearn.neural_network import MLPClassifier\n",
    "import warnings\n",
    "warnings.filterwarnings('ignore')\n",
    "from sklearn.ensemble import GradientBoostingClassifier\n",
    "from collections import Counter\n",
    "from sklearn.linear_model import LogisticRegression\n"
   ]
  },
  {
   "cell_type": "markdown",
   "metadata": {},
   "source": [
    "# Read Data and Data Description"
   ]
  },
  {
   "cell_type": "code",
   "execution_count": 66,
   "metadata": {},
   "outputs": [],
   "source": [
    "data = pd.read_csv('total_data.csv')\n"
   ]
  },
  {
   "cell_type": "code",
   "execution_count": 67,
   "metadata": {},
   "outputs": [
    {
     "data": {
      "text/plain": [
       "Index(['Date', 'retailer', 'Retailer Name', 'Street Addr Address',\n",
       "       'Street Addr City', 'Street Addr County', 'Street Addr State',\n",
       "       'Street Addr Zip', 'Business Type', 'Total Instant Sales',\n",
       "       'Total Online Sales', 'Total Instant Cashes', 'Total Online Cashes',\n",
       "       'P3 Sales', 'P4 Sales', 'Powerball Sales', 'PC5 Sales', 'APLY Sales',\n",
       "       'Mega Millions Sales', 'LFL Sales', 'P3 Cashes', 'P4 Cashes',\n",
       "       'Powerball Cashes', 'PC5 Cashes', 'APLY Cashes', 'Mega Millions Cashes',\n",
       "       'LFL Cashes', 'P3 Sales Count', 'P3 Sales Cancel', 'P4 Sales Count',\n",
       "       'P4 Sales Cancel', 'Powerball Sales Count', 'PC5 Sales Count',\n",
       "       'APLY Sales Count', 'MegaM Sales Count', 'LFL Sales Count',\n",
       "       'Instant Cashes Count', 'P3 Cashes Count', 'P4 Cashes Count',\n",
       "       'Powerball Cashes Count', 'PC5 Cashes Count', 'APLY Cashes Count',\n",
       "       'MegaM Cashes Count', 'LFL Cashes Count', 'fraud'],\n",
       "      dtype='object')"
      ]
     },
     "execution_count": 67,
     "metadata": {},
     "output_type": "execute_result"
    }
   ],
   "source": [
    "data.columns"
   ]
  },
  {
   "cell_type": "code",
   "execution_count": 68,
   "metadata": {},
   "outputs": [],
   "source": [
    "data = data.drop(['Date','Retailer Name', 'Street Addr Address', 'Street Addr City',\n",
    "                   'Street Addr County', 'Street Addr State','APLY Cashes Count','APLY Cashes','APLY Sales Count','APLY Sales'],\n",
    "                 axis = 1)"
   ]
  },
  {
   "cell_type": "markdown",
   "metadata": {},
   "source": [
    "# Convert Categorical column to Numerical"
   ]
  },
  {
   "cell_type": "code",
   "execution_count": 69,
   "metadata": {},
   "outputs": [
    {
     "name": "stdout",
     "output_type": "stream",
     "text": [
      "(2333437, 35)\n",
      "(2333437, 45)\n"
     ]
    }
   ],
   "source": [
    "unique_bussines = data['Business Type'].unique()\n",
    "cat_features = ['Business Type']\n",
    "print(data.shape)\n",
    "data = pd.get_dummies(data,columns=cat_features)\n",
    "print(data.shape)"
   ]
  },
  {
   "cell_type": "markdown",
   "metadata": {},
   "source": [
    "# Building new features"
   ]
  },
  {
   "cell_type": "code",
   "execution_count": 90,
   "metadata": {},
   "outputs": [],
   "source": [
    "#Feature 1\n",
    "data['Validation_Ratio'] = data['Total Instant Cashes'] / data['Instant Cashes Count'] "
   ]
  },
  {
   "cell_type": "code",
   "execution_count": 91,
   "metadata": {},
   "outputs": [],
   "source": [
    "# imputing missing valus with mean\n",
    "data.Validation_Ratio.fillna(data.Validation_Ratio.mean(), inplace=True)"
   ]
  },
  {
   "cell_type": "code",
   "execution_count": 92,
   "metadata": {},
   "outputs": [
    {
     "data": {
      "image/png": "[encoded data removed]",
      "text/plain": [
       "<Figure size 576x432 with 1 Axes>"
      ]
     },
     "metadata": {
      "needs_background": "light"
     },
     "output_type": "display_data"
    }
   ],
   "source": [
    "# Box plot to check spread of values amongst the two classes\n",
    "fig = plt.figure(figsize = [8,6])\n",
    "ax = sns.boxplot(x=data['fraud'], y=data['Validation_Ratio'],width=0.4,showfliers=False)\n",
    "ax.set_xlabel(\"Fraud Class\")\n",
    "ax.set_ylabel(\"Validation_Ratio\")\n",
    "ax.set_title(\"Distribution of Validation Ratio for different classes of fraud\");"
   ]
  },
  {
   "cell_type": "code",
   "execution_count": 93,
   "metadata": {},
   "outputs": [],
   "source": [
    "#Feature 2\n",
    "data['ValidationToSale_Ratio'] = data['Total Instant Cashes'] / data['Total Instant Sales'] "
   ]
  },
  {
   "cell_type": "code",
   "execution_count": 94,
   "metadata": {},
   "outputs": [
    {
     "data": {
      "text/plain": [
       "0    336019\n",
       "1        32\n",
       "Name: fraud, dtype: int64"
      ]
     },
     "execution_count": 94,
     "metadata": {},
     "output_type": "execute_result"
    }
   ],
   "source": [
    "#checking fraud count for infinite values, that are created because of dividing by zero[Total instant sales]\n",
    "data[data['ValidationToSale_Ratio'] == np.inf]['fraud'].value_counts()"
   ]
  },
  {
   "cell_type": "code",
   "execution_count": 95,
   "metadata": {},
   "outputs": [
    {
     "data": {
      "text/plain": [
       "0    3485\n",
       "Name: fraud, dtype: int64"
      ]
     },
     "execution_count": 95,
     "metadata": {},
     "output_type": "execute_result"
    }
   ],
   "source": [
    "#chaecking count of fraud for missing values\n",
    "data[data['ValidationToSale_Ratio'].isna()]['fraud'].value_counts()"
   ]
  },
  {
   "cell_type": "code",
   "execution_count": 96,
   "metadata": {},
   "outputs": [],
   "source": [
    "#dropping all missing values because all cases are non fraud(from above cell)\n",
    "data = data[-data['ValidationToSale_Ratio'].isna()]"
   ]
  },
  {
   "cell_type": "code",
   "execution_count": 97,
   "metadata": {},
   "outputs": [],
   "source": [
    "#replacing infinite values with null\n",
    "data = data.replace(np.inf, np.nan)"
   ]
  },
  {
   "cell_type": "code",
   "execution_count": 98,
   "metadata": {},
   "outputs": [],
   "source": [
    "#imputing null values with mean\n",
    "data.ValidationToSale_Ratio.fillna(data.ValidationToSale_Ratio.mean(), inplace=True)"
   ]
  },
  {
   "cell_type": "code",
   "execution_count": 100,
   "metadata": {},
   "outputs": [
    {
     "data": {
      "image/png": "[encoded data removed]",
      "text/plain": [
       "<Figure size 576x432 with 1 Axes>"
      ]
     },
     "metadata": {
      "needs_background": "light"
     },
     "output_type": "display_data"
    }
   ],
   "source": [
    "# Box plot to check spread of values amongst the two classes\n",
    "fig = plt.figure(figsize = [8,6])\n",
    "ax = sns.boxplot(x=data['fraud'], y=data['ValidationToSale_Ratio'],width=0.4,showfliers=False)\n",
    "ax.set_xlabel(\"Fraud Class\")\n",
    "ax.set_ylabel(\"ValidationToSale_Ratio\")\n",
    "ax.set_title(\"Distribution of ValidationToSale_Ratio for different classes of fraud\");"
   ]
  },
  {
   "cell_type": "markdown",
   "metadata": {},
   "source": [
    "# split up test, train"
   ]
  },
  {
   "cell_type": "code",
   "execution_count": 84,
   "metadata": {},
   "outputs": [],
   "source": [
    "y = data['fraud']\n",
    "x = data.drop('fraud', axis = 1)\n",
    "\n",
    "xtrain, xtest, ytrain, ytest = train_test_split(x, y, test_size = 0.20)\n",
    "\n",
    "xtrain = xtrain.copy()\n",
    "xtest = xtest.copy()\n",
    "ytrain = ytrain.copy()\n",
    "ytest = ytest.copy()"
   ]
  },
  {
   "cell_type": "code",
   "execution_count": 71,
   "metadata": {},
   "outputs": [
    {
     "name": "stdout",
     "output_type": "stream",
     "text": [
      "0    1866411\n",
      "1        338\n",
      "Name: fraud, dtype: int64\n",
      "0    466605\n",
      "1        83\n",
      "Name: fraud, dtype: int64\n"
     ]
    }
   ],
   "source": [
    "print(ytrain.value_counts())\n",
    "print(ytest.value_counts())"
   ]
  },
  {
   "cell_type": "markdown",
   "metadata": {},
   "source": [
    "# Random Undersampling for MLP Classifier"
   ]
  },
  {
   "cell_type": "code",
   "execution_count": 85,
   "metadata": {},
   "outputs": [
    {
     "name": "stdout",
     "output_type": "stream",
     "text": [
      "Random undersampling Counter({0: 351000, 1: 351})\n"
     ]
    }
   ],
   "source": [
    "\n",
    "from imblearn.under_sampling import (RandomUnderSampler)\n",
    "\n",
    "# RandomUnderSampler\n",
    "sampler = RandomUnderSampler(0.001,random_state=11)\n",
    "x_train, y_train = sampler.fit_resample(xtrain, ytrain)\n",
    "print('Random undersampling {}'.format(Counter(y_train)))"
   ]
  },
  {
   "cell_type": "code",
   "execution_count": 88,
   "metadata": {},
   "outputs": [
    {
     "name": "stdout",
     "output_type": "stream",
     "text": [
      "Train Results:\n",
      "0.999000999000999\n",
      "[[351000      0]\n",
      " [   351      0]]\n",
      "              precision    recall  f1-score   support\n",
      "\n",
      "           0       1.00      1.00      1.00    351000\n",
      "           1       0.00      0.00      0.00       351\n",
      "\n",
      "    accuracy                           1.00    351351\n",
      "   macro avg       0.50      0.50      0.50    351351\n",
      "weighted avg       1.00      1.00      1.00    351351\n",
      "\n",
      "\n",
      "Test Results:\n",
      "0.9998500068568295\n",
      "[[466618      0]\n",
      " [    70      0]]\n",
      "              precision    recall  f1-score   support\n",
      "\n",
      "           0       1.00      1.00      1.00    466618\n",
      "           1       0.00      0.00      0.00        70\n",
      "\n",
      "    accuracy                           1.00    466688\n",
      "   macro avg       0.50      0.50      0.50    466688\n",
      "weighted avg       1.00      1.00      1.00    466688\n",
      "\n"
     ]
    }
   ],
   "source": [
    "# MLP\n",
    "\n",
    "MLPClassifier = MLPClassifier()\n",
    "#fit data\n",
    "MLPClassifier.fit(x_train, y_train) \n",
    "\n",
    "#predict test\n",
    "train_predicted = MLPClassifier.predict(x_train)\n",
    "test_predicted = MLPClassifier.predict(xtest)\n",
    "\n",
    "#Train Accuracy\n",
    "print(\"Train Results:\")\n",
    "print(accuracy_score(y_train, train_predicted))\n",
    "print(confusion_matrix(y_train, train_predicted))\n",
    "print(classification_report(y_train, train_predicted))\n",
    "\n",
    "#Test Accuracy\n",
    "print()\n",
    "print(\"Test Results:\")\n",
    "print(accuracy_score(ytest, test_predicted))\n",
    "print(confusion_matrix(ytest, test_predicted))\n",
    "print(classification_report(ytest, test_predicted))\n"
   ]
  },
  {
   "cell_type": "code",
   "execution_count": 89,
   "metadata": {},
   "outputs": [],
   "source": [
    "test_actual_predicted = pd.DataFrame({'Actual':ytest,'Predicted':MLPClassifier.predict(xtest),'Predicted_prob_class1':MLPClassifier.predict_proba(xtest)[:,1]})"
   ]
  },
  {
   "cell_type": "code",
   "execution_count": 75,
   "metadata": {},
   "outputs": [
    {
     "data": {
      "text/html": [
       "<div>\n",
       "<style scoped>\n",
       "    .dataframe tbody tr th:only-of-type {\n",
       "        vertical-align: middle;\n",
       "    }\n",
       "\n",
       "    .dataframe tbody tr th {\n",
       "        vertical-align: top;\n",
       "    }\n",
       "\n",
       "    .dataframe thead th {\n",
       "        text-align: right;\n",
       "    }\n",
       "</style>\n",
       "<table border=\"1\" class=\"dataframe\">\n",
       "  <thead>\n",
       "    <tr style=\"text-align: right;\">\n",
       "      <th></th>\n",
       "      <th>Threshold</th>\n",
       "      <th>TotalRecords</th>\n",
       "      <th>ActualFraudCaptured</th>\n",
       "      <th>Precision</th>\n",
       "      <th>Recall</th>\n",
       "    </tr>\n",
       "  </thead>\n",
       "  <tbody>\n",
       "    <tr>\n",
       "      <th>0</th>\n",
       "      <td>0.0</td>\n",
       "      <td>466688</td>\n",
       "      <td>83</td>\n",
       "      <td>0.000178</td>\n",
       "      <td>1.0</td>\n",
       "    </tr>\n",
       "    <tr>\n",
       "      <th>1</th>\n",
       "      <td>0.1</td>\n",
       "      <td>0</td>\n",
       "      <td>0</td>\n",
       "      <td>NaN</td>\n",
       "      <td>0.0</td>\n",
       "    </tr>\n",
       "    <tr>\n",
       "      <th>2</th>\n",
       "      <td>0.2</td>\n",
       "      <td>0</td>\n",
       "      <td>0</td>\n",
       "      <td>NaN</td>\n",
       "      <td>0.0</td>\n",
       "    </tr>\n",
       "    <tr>\n",
       "      <th>3</th>\n",
       "      <td>0.3</td>\n",
       "      <td>0</td>\n",
       "      <td>0</td>\n",
       "      <td>NaN</td>\n",
       "      <td>0.0</td>\n",
       "    </tr>\n",
       "    <tr>\n",
       "      <th>4</th>\n",
       "      <td>0.4</td>\n",
       "      <td>0</td>\n",
       "      <td>0</td>\n",
       "      <td>NaN</td>\n",
       "      <td>0.0</td>\n",
       "    </tr>\n",
       "    <tr>\n",
       "      <th>5</th>\n",
       "      <td>0.5</td>\n",
       "      <td>0</td>\n",
       "      <td>0</td>\n",
       "      <td>NaN</td>\n",
       "      <td>0.0</td>\n",
       "    </tr>\n",
       "    <tr>\n",
       "      <th>6</th>\n",
       "      <td>0.6</td>\n",
       "      <td>0</td>\n",
       "      <td>0</td>\n",
       "      <td>NaN</td>\n",
       "      <td>0.0</td>\n",
       "    </tr>\n",
       "    <tr>\n",
       "      <th>7</th>\n",
       "      <td>0.7</td>\n",
       "      <td>0</td>\n",
       "      <td>0</td>\n",
       "      <td>NaN</td>\n",
       "      <td>0.0</td>\n",
       "    </tr>\n",
       "    <tr>\n",
       "      <th>8</th>\n",
       "      <td>0.8</td>\n",
       "      <td>0</td>\n",
       "      <td>0</td>\n",
       "      <td>NaN</td>\n",
       "      <td>0.0</td>\n",
       "    </tr>\n",
       "    <tr>\n",
       "      <th>9</th>\n",
       "      <td>0.9</td>\n",
       "      <td>0</td>\n",
       "      <td>0</td>\n",
       "      <td>NaN</td>\n",
       "      <td>0.0</td>\n",
       "    </tr>\n",
       "  </tbody>\n",
       "</table>\n",
       "</div>"
      ],
      "text/plain": [
       "   Threshold  TotalRecords  ActualFraudCaptured  Precision  Recall\n",
       "0        0.0        466688                   83   0.000178     1.0\n",
       "1        0.1             0                    0        NaN     0.0\n",
       "2        0.2             0                    0        NaN     0.0\n",
       "3        0.3             0                    0        NaN     0.0\n",
       "4        0.4             0                    0        NaN     0.0\n",
       "5        0.5             0                    0        NaN     0.0\n",
       "6        0.6             0                    0        NaN     0.0\n",
       "7        0.7             0                    0        NaN     0.0\n",
       "8        0.8             0                    0        NaN     0.0\n",
       "9        0.9             0                    0        NaN     0.0"
      ]
     },
     "execution_count": 75,
     "metadata": {},
     "output_type": "execute_result"
    }
   ],
   "source": [
    "#Threshold Analysis for class 'fraud'\n",
    "\n",
    "actual_1 = (test_actual_predicted.Actual == 1).sum()\n",
    "i=0\n",
    "frame = []\n",
    "while i<=0.9:\n",
    "    req = test_actual_predicted[test_actual_predicted['Predicted_prob_class1']>=i]\n",
    "    actualfraud =  (req.Actual ==1).sum() \n",
    "    recall = (req.Actual ==1).sum() / actual_1\n",
    "    precision = (req.Actual ==1).sum() / len(req)\n",
    "    ls = i,len(req),actualfraud,precision,recall\n",
    "    frame.append(list(ls))\n",
    "    i+=0.1\n",
    "resultFn = pd.DataFrame(frame,columns=['Threshold','TotalRecords','ActualFraudCaptured','Precision','Recall'])\n",
    "resultFn"
   ]
  },
  {
   "cell_type": "markdown",
   "metadata": {},
   "source": [
    "# Random Undersampling for more models(different ratio)"
   ]
  },
  {
   "cell_type": "code",
   "execution_count": 104,
   "metadata": {},
   "outputs": [
    {
     "name": "stdout",
     "output_type": "stream",
     "text": [
      "Random undersampling Counter({0: 17550, 1: 351})\n"
     ]
    }
   ],
   "source": [
    "\n",
    "from imblearn.under_sampling import (RandomUnderSampler)\n",
    "\n",
    "# RandomUnderSampler\n",
    "sampler = RandomUnderSampler(0.02,random_state=11)\n",
    "xtrain, ytrain = sampler.fit_resample(xtrain, ytrain)\n",
    "print('Random undersampling {}'.format(Counter(ytrain)))"
   ]
  },
  {
   "cell_type": "markdown",
   "metadata": {},
   "source": [
    "# Logistic "
   ]
  },
  {
   "cell_type": "code",
   "execution_count": 77,
   "metadata": {},
   "outputs": [
    {
     "name": "stdout",
     "output_type": "stream",
     "text": [
      "Train Results:\n",
      "0.9803921568627451\n",
      "[[16898     2]\n",
      " [  336     2]]\n",
      "              precision    recall  f1-score   support\n",
      "\n",
      "           0       0.98      1.00      0.99     16900\n",
      "           1       0.50      0.01      0.01       338\n",
      "\n",
      "    accuracy                           0.98     17238\n",
      "   macro avg       0.74      0.50      0.50     17238\n",
      "weighted avg       0.97      0.98      0.97     17238\n",
      "\n",
      "\n",
      "Test Results:\n",
      "0.999730012342293\n",
      "[[466562     43]\n",
      " [    83      0]]\n",
      "              precision    recall  f1-score   support\n",
      "\n",
      "           0       1.00      1.00      1.00    466605\n",
      "           1       0.00      0.00      0.00        83\n",
      "\n",
      "    accuracy                           1.00    466688\n",
      "   macro avg       0.50      0.50      0.50    466688\n",
      "weighted avg       1.00      1.00      1.00    466688\n",
      "\n"
     ]
    }
   ],
   "source": [
    "LRClassifier = LogisticRegression(random_state=11, solver='lbfgs', C=10, max_iter=5000)\n",
    "#fit data\n",
    "LRClassifier.fit(xtrain, ytrain)\n",
    "\n",
    "#predict test\n",
    "train_predicted = LRClassifier.predict(xtrain)\n",
    "test_predicted = LRClassifier.predict(xtest)\n",
    "\n",
    "#Train Accuracy\n",
    "print(\"Train Results:\")\n",
    "print(accuracy_score(ytrain, train_predicted))\n",
    "print(confusion_matrix(ytrain, train_predicted))\n",
    "print(classification_report(ytrain, train_predicted))\n",
    "\n",
    "#Test Accuracy\n",
    "print()\n",
    "print(\"Test Results:\")\n",
    "print(accuracy_score(ytest, test_predicted))\n",
    "print(confusion_matrix(ytest, test_predicted))\n",
    "print(classification_report(ytest, test_predicted))\n"
   ]
  },
  {
   "cell_type": "code",
   "execution_count": 78,
   "metadata": {},
   "outputs": [],
   "source": [
    "test_actual_predicted = pd.DataFrame({'Actual':ytest,'Predicted':LRClassifier.predict(xtest),'Predicted_prob_class1':LRClassifier.predict_proba(xtest)[:,1]})"
   ]
  },
  {
   "cell_type": "code",
   "execution_count": 79,
   "metadata": {},
   "outputs": [
    {
     "data": {
      "text/html": [
       "<div>\n",
       "<style scoped>\n",
       "    .dataframe tbody tr th:only-of-type {\n",
       "        vertical-align: middle;\n",
       "    }\n",
       "\n",
       "    .dataframe tbody tr th {\n",
       "        vertical-align: top;\n",
       "    }\n",
       "\n",
       "    .dataframe thead th {\n",
       "        text-align: right;\n",
       "    }\n",
       "</style>\n",
       "<table border=\"1\" class=\"dataframe\">\n",
       "  <thead>\n",
       "    <tr style=\"text-align: right;\">\n",
       "      <th></th>\n",
       "      <th>Threshold</th>\n",
       "      <th>TotalRecords</th>\n",
       "      <th>ActualFraudCaptured</th>\n",
       "      <th>Precision</th>\n",
       "      <th>Recall</th>\n",
       "    </tr>\n",
       "  </thead>\n",
       "  <tbody>\n",
       "    <tr>\n",
       "      <th>0</th>\n",
       "      <td>0.0</td>\n",
       "      <td>466688</td>\n",
       "      <td>83</td>\n",
       "      <td>0.000178</td>\n",
       "      <td>1.000000</td>\n",
       "    </tr>\n",
       "    <tr>\n",
       "      <th>1</th>\n",
       "      <td>0.1</td>\n",
       "      <td>731</td>\n",
       "      <td>1</td>\n",
       "      <td>0.001368</td>\n",
       "      <td>0.012048</td>\n",
       "    </tr>\n",
       "    <tr>\n",
       "      <th>2</th>\n",
       "      <td>0.2</td>\n",
       "      <td>216</td>\n",
       "      <td>0</td>\n",
       "      <td>0.000000</td>\n",
       "      <td>0.000000</td>\n",
       "    </tr>\n",
       "    <tr>\n",
       "      <th>3</th>\n",
       "      <td>0.3</td>\n",
       "      <td>113</td>\n",
       "      <td>0</td>\n",
       "      <td>0.000000</td>\n",
       "      <td>0.000000</td>\n",
       "    </tr>\n",
       "    <tr>\n",
       "      <th>4</th>\n",
       "      <td>0.4</td>\n",
       "      <td>69</td>\n",
       "      <td>0</td>\n",
       "      <td>0.000000</td>\n",
       "      <td>0.000000</td>\n",
       "    </tr>\n",
       "    <tr>\n",
       "      <th>5</th>\n",
       "      <td>0.5</td>\n",
       "      <td>43</td>\n",
       "      <td>0</td>\n",
       "      <td>0.000000</td>\n",
       "      <td>0.000000</td>\n",
       "    </tr>\n",
       "    <tr>\n",
       "      <th>6</th>\n",
       "      <td>0.6</td>\n",
       "      <td>27</td>\n",
       "      <td>0</td>\n",
       "      <td>0.000000</td>\n",
       "      <td>0.000000</td>\n",
       "    </tr>\n",
       "    <tr>\n",
       "      <th>7</th>\n",
       "      <td>0.7</td>\n",
       "      <td>20</td>\n",
       "      <td>0</td>\n",
       "      <td>0.000000</td>\n",
       "      <td>0.000000</td>\n",
       "    </tr>\n",
       "    <tr>\n",
       "      <th>8</th>\n",
       "      <td>0.8</td>\n",
       "      <td>15</td>\n",
       "      <td>0</td>\n",
       "      <td>0.000000</td>\n",
       "      <td>0.000000</td>\n",
       "    </tr>\n",
       "    <tr>\n",
       "      <th>9</th>\n",
       "      <td>0.9</td>\n",
       "      <td>12</td>\n",
       "      <td>0</td>\n",
       "      <td>0.000000</td>\n",
       "      <td>0.000000</td>\n",
       "    </tr>\n",
       "  </tbody>\n",
       "</table>\n",
       "</div>"
      ],
      "text/plain": [
       "   Threshold  TotalRecords  ActualFraudCaptured  Precision    Recall\n",
       "0        0.0        466688                   83   0.000178  1.000000\n",
       "1        0.1           731                    1   0.001368  0.012048\n",
       "2        0.2           216                    0   0.000000  0.000000\n",
       "3        0.3           113                    0   0.000000  0.000000\n",
       "4        0.4            69                    0   0.000000  0.000000\n",
       "5        0.5            43                    0   0.000000  0.000000\n",
       "6        0.6            27                    0   0.000000  0.000000\n",
       "7        0.7            20                    0   0.000000  0.000000\n",
       "8        0.8            15                    0   0.000000  0.000000\n",
       "9        0.9            12                    0   0.000000  0.000000"
      ]
     },
     "execution_count": 79,
     "metadata": {},
     "output_type": "execute_result"
    }
   ],
   "source": [
    "#Threshold Analysis for class 'fraud'\n",
    "\n",
    "actual_1 = (test_actual_predicted.Actual == 1).sum()\n",
    "i=0\n",
    "frame = []\n",
    "while i<=0.9:\n",
    "    req = test_actual_predicted[test_actual_predicted['Predicted_prob_class1']>=i]\n",
    "    actualfraud =  (req.Actual ==1).sum() \n",
    "    recall = (req.Actual ==1).sum() / actual_1\n",
    "    precision = (req.Actual ==1).sum() / len(req)\n",
    "    ls = i,len(req),actualfraud,precision,recall\n",
    "    frame.append(list(ls))\n",
    "    i+=0.1\n",
    "resultFn = pd.DataFrame(frame,columns=['Threshold','TotalRecords','ActualFraudCaptured','Precision','Recall'])\n",
    "resultFn"
   ]
  },
  {
   "cell_type": "markdown",
   "metadata": {},
   "source": [
    "# Gradient Boosting Classifier"
   ]
  },
  {
   "cell_type": "code",
   "execution_count": 80,
   "metadata": {},
   "outputs": [
    {
     "name": "stdout",
     "output_type": "stream",
     "text": [
      "Train Results:\n",
      "0.9835247708550876\n",
      "[[16899     1]\n",
      " [  283    55]]\n",
      "              precision    recall  f1-score   support\n",
      "\n",
      "           0       0.98      1.00      0.99     16900\n",
      "           1       0.98      0.16      0.28       338\n",
      "\n",
      "    accuracy                           0.98     17238\n",
      "   macro avg       0.98      0.58      0.64     17238\n",
      "weighted avg       0.98      0.98      0.98     17238\n",
      "\n",
      "\n",
      "Test Results:\n",
      "0.9996828716401536\n",
      "[[466531     74]\n",
      " [    74      9]]\n",
      "              precision    recall  f1-score   support\n",
      "\n",
      "           0       1.00      1.00      1.00    466605\n",
      "           1       0.11      0.11      0.11        83\n",
      "\n",
      "    accuracy                           1.00    466688\n",
      "   macro avg       0.55      0.55      0.55    466688\n",
      "weighted avg       1.00      1.00      1.00    466688\n",
      "\n"
     ]
    }
   ],
   "source": [
    "\n",
    "GBClassifier = GradientBoostingClassifier(n_estimators=500,learning_rate=0.01,random_state=11)\n",
    "#fit data\n",
    "GBClassifier.fit(xtrain, ytrain) \n",
    "\n",
    "#predict test\n",
    "train_predicted = GBClassifier.predict(xtrain)\n",
    "test_predicted = GBClassifier.predict(xtest)\n",
    "\n",
    "#Train Accuracy\n",
    "print(\"Train Results:\")\n",
    "print(accuracy_score(ytrain, train_predicted))\n",
    "print(confusion_matrix(ytrain, train_predicted))\n",
    "print(classification_report(ytrain, train_predicted))\n",
    "\n",
    "#Test Accuracy\n",
    "print()\n",
    "print(\"Test Results:\")\n",
    "print(accuracy_score(ytest, test_predicted))\n",
    "print(confusion_matrix(ytest, test_predicted))\n",
    "print(classification_report(ytest, test_predicted))\n"
   ]
  },
  {
   "cell_type": "code",
   "execution_count": 81,
   "metadata": {},
   "outputs": [],
   "source": [
    "test_actual_predicted = pd.DataFrame({'Actual':ytest,'Predicted':GBClassifier.predict(xtest),'Predicted_prob_class1':GBClassifier.predict_proba(xtest)[:,1]})"
   ]
  },
  {
   "cell_type": "code",
   "execution_count": 82,
   "metadata": {},
   "outputs": [
    {
     "data": {
      "text/html": [
       "<div>\n",
       "<style scoped>\n",
       "    .dataframe tbody tr th:only-of-type {\n",
       "        vertical-align: middle;\n",
       "    }\n",
       "\n",
       "    .dataframe tbody tr th {\n",
       "        vertical-align: top;\n",
       "    }\n",
       "\n",
       "    .dataframe thead th {\n",
       "        text-align: right;\n",
       "    }\n",
       "</style>\n",
       "<table border=\"1\" class=\"dataframe\">\n",
       "  <thead>\n",
       "    <tr style=\"text-align: right;\">\n",
       "      <th></th>\n",
       "      <th>Threshold</th>\n",
       "      <th>TotalRecords</th>\n",
       "      <th>ActualFraudCaptured</th>\n",
       "      <th>Precision</th>\n",
       "      <th>Recall</th>\n",
       "    </tr>\n",
       "  </thead>\n",
       "  <tbody>\n",
       "    <tr>\n",
       "      <th>0</th>\n",
       "      <td>0.0</td>\n",
       "      <td>466688</td>\n",
       "      <td>83</td>\n",
       "      <td>0.000178</td>\n",
       "      <td>1.000000</td>\n",
       "    </tr>\n",
       "    <tr>\n",
       "      <th>1</th>\n",
       "      <td>0.1</td>\n",
       "      <td>2094</td>\n",
       "      <td>41</td>\n",
       "      <td>0.019580</td>\n",
       "      <td>0.493976</td>\n",
       "    </tr>\n",
       "    <tr>\n",
       "      <th>2</th>\n",
       "      <td>0.2</td>\n",
       "      <td>605</td>\n",
       "      <td>37</td>\n",
       "      <td>0.061157</td>\n",
       "      <td>0.445783</td>\n",
       "    </tr>\n",
       "    <tr>\n",
       "      <th>3</th>\n",
       "      <td>0.3</td>\n",
       "      <td>419</td>\n",
       "      <td>31</td>\n",
       "      <td>0.073986</td>\n",
       "      <td>0.373494</td>\n",
       "    </tr>\n",
       "    <tr>\n",
       "      <th>4</th>\n",
       "      <td>0.4</td>\n",
       "      <td>242</td>\n",
       "      <td>22</td>\n",
       "      <td>0.090909</td>\n",
       "      <td>0.265060</td>\n",
       "    </tr>\n",
       "    <tr>\n",
       "      <th>5</th>\n",
       "      <td>0.5</td>\n",
       "      <td>83</td>\n",
       "      <td>9</td>\n",
       "      <td>0.108434</td>\n",
       "      <td>0.108434</td>\n",
       "    </tr>\n",
       "    <tr>\n",
       "      <th>6</th>\n",
       "      <td>0.6</td>\n",
       "      <td>28</td>\n",
       "      <td>3</td>\n",
       "      <td>0.107143</td>\n",
       "      <td>0.036145</td>\n",
       "    </tr>\n",
       "    <tr>\n",
       "      <th>7</th>\n",
       "      <td>0.7</td>\n",
       "      <td>11</td>\n",
       "      <td>0</td>\n",
       "      <td>0.000000</td>\n",
       "      <td>0.000000</td>\n",
       "    </tr>\n",
       "    <tr>\n",
       "      <th>8</th>\n",
       "      <td>0.8</td>\n",
       "      <td>4</td>\n",
       "      <td>0</td>\n",
       "      <td>0.000000</td>\n",
       "      <td>0.000000</td>\n",
       "    </tr>\n",
       "    <tr>\n",
       "      <th>9</th>\n",
       "      <td>0.9</td>\n",
       "      <td>0</td>\n",
       "      <td>0</td>\n",
       "      <td>NaN</td>\n",
       "      <td>0.000000</td>\n",
       "    </tr>\n",
       "  </tbody>\n",
       "</table>\n",
       "</div>"
      ],
      "text/plain": [
       "   Threshold  TotalRecords  ActualFraudCaptured  Precision    Recall\n",
       "0        0.0        466688                   83   0.000178  1.000000\n",
       "1        0.1          2094                   41   0.019580  0.493976\n",
       "2        0.2           605                   37   0.061157  0.445783\n",
       "3        0.3           419                   31   0.073986  0.373494\n",
       "4        0.4           242                   22   0.090909  0.265060\n",
       "5        0.5            83                    9   0.108434  0.108434\n",
       "6        0.6            28                    3   0.107143  0.036145\n",
       "7        0.7            11                    0   0.000000  0.000000\n",
       "8        0.8             4                    0   0.000000  0.000000\n",
       "9        0.9             0                    0        NaN  0.000000"
      ]
     },
     "execution_count": 82,
     "metadata": {},
     "output_type": "execute_result"
    }
   ],
   "source": [
    "#Threshold Analysis for class 'fraud'\n",
    "\n",
    "actual_1 = (test_actual_predicted.Actual == 1).sum()\n",
    "i=0\n",
    "frame = []\n",
    "while i<=0.9:\n",
    "    req = test_actual_predicted[test_actual_predicted['Predicted_prob_class1']>=i]\n",
    "    actualfraud =  (req.Actual ==1).sum() \n",
    "    recall = (req.Actual ==1).sum() / actual_1\n",
    "    precision = (req.Actual ==1).sum() / len(req)\n",
    "    ls = i,len(req),actualfraud,precision,recall\n",
    "    frame.append(list(ls))\n",
    "    i+=0.1\n",
    "resultFn = pd.DataFrame(frame,columns=['Threshold','TotalRecords','ActualFraudCaptured','Precision','Recall'])\n",
    "resultFn"
   ]
  },
  {
   "cell_type": "markdown",
   "metadata": {},
   "source": [
    "# Support Vector Machine (SVM)"
   ]
  },
  {
   "cell_type": "code",
   "execution_count": 107,
   "metadata": {},
   "outputs": [
    {
     "name": "stdout",
     "output_type": "stream",
     "text": [
      "Train Results:\n",
      "0.9803362940617842\n",
      "[[17549     1]\n",
      " [  351     0]]\n",
      "              precision    recall  f1-score   support\n",
      "\n",
      "           0       0.98      1.00      0.99     17550\n",
      "           1       0.00      0.00      0.00       351\n",
      "\n",
      "    accuracy                           0.98     17901\n",
      "   macro avg       0.49      0.50      0.50     17901\n",
      "weighted avg       0.96      0.98      0.97     17901\n",
      "\n",
      "\n",
      "Test Results:\n",
      "0.9997835813219967\n",
      "[[466587     31]\n",
      " [    70      0]]\n",
      "              precision    recall  f1-score   support\n",
      "\n",
      "           0       1.00      1.00      1.00    466618\n",
      "           1       0.00      0.00      0.00        70\n",
      "\n",
      "    accuracy                           1.00    466688\n",
      "   macro avg       0.50      0.50      0.50    466688\n",
      "weighted avg       1.00      1.00      1.00    466688\n",
      "\n"
     ]
    }
   ],
   "source": [
    "from sklearn.svm import SVC\n",
    "SVClassifier = SVC(C=10, kernel='linear', random_state=11,probability=True)\n",
    "#fit data\n",
    "SVClassifier.fit(xtrain, ytrain)\n",
    "\n",
    "#predict test\n",
    "train_predicted = SVClassifier.predict(xtrain)\n",
    "test_predicted = SVClassifier.predict(xtest)\n",
    "\n",
    "#Train Accuracy\n",
    "print(\"Train Results:\")\n",
    "print(accuracy_score(ytrain, train_predicted))\n",
    "print(confusion_matrix(ytrain, train_predicted))\n",
    "print(classification_report(ytrain, train_predicted))\n",
    "\n",
    "#Test Accuracy\n",
    "print()\n",
    "print(\"Test Results:\")\n",
    "print(accuracy_score(ytest, test_predicted))\n",
    "print(confusion_matrix(ytest, test_predicted))\n",
    "print(classification_report(ytest, test_predicted))\n"
   ]
  },
  {
   "cell_type": "code",
   "execution_count": null,
   "metadata": {},
   "outputs": [],
   "source": [
    "test_actual_predicted = pd.DataFrame({'Actual':ytest,'Predicted':SVClassifier.predict(xtest),'Predicted_prob_class1':SVClassifier.predict_proba(xtest)[:,1]})"
   ]
  }
 ],
 "metadata": {
  "kernelspec": {
   "display_name": "Python 3",
   "language": "python",
   "name": "python3"
  },
  "language_info": {
   "codemirror_mode": {
    "name": "ipython",
    "version": 3
   },
   "file_extension": ".py",
   "mimetype": "text/x-python",
   "name": "python",
   "nbconvert_exporter": "python",
   "pygments_lexer": "ipython3",
   "version": "3.7.3"
  }
 },
 "nbformat": 4,
 "nbformat_minor": 2
}
